{
 "cells": [
  {
   "cell_type": "code",
   "execution_count": null,
   "metadata": {},
   "outputs": [],
   "source": [
    "import csv\n",
    "def read_csv_data(filename):\n",
    "    temperatures = []\n",
    "    humidity_values = []\n",
    "    with open(filename) as f:\n",
    "        reader = csv.reader(f)\n",
    "        next(reader) # Skip the header row\n",
    "    for row in reader:\n",
    "        try:\n",
    "            temp = float(row[1])\n",
    "            humidity = float(row[2])\n",
    "            temperatures.append(temp)\n",
    "            humidity_values.append(humidity)\n",
    "        except (ValueError, IndexError):\n",
    "            print(f'Skipping invalid row: {row}')\n",
    "            continue\n",
    "    return temperatures, humidity_values"
   ]
  }
 ],
 "metadata": {
  "kernelspec": {
   "display_name": "Python 3",
   "language": "python",
   "name": "python3"
  },
  "language_info": {
   "name": "python",
   "version": "3.12.1"
  }
 },
 "nbformat": 4,
 "nbformat_minor": 2
}
