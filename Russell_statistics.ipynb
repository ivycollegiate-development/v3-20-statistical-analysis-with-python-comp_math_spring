{
 "cells": [
  {
   "cell_type": "code",
   "execution_count": 1,
   "metadata": {},
   "outputs": [
    {
     "ename": "NameError",
     "evalue": "name 'math' is not defined",
     "output_type": "error",
     "traceback": [
      "\u001b[0;31m---------------------------------------------------------------------------\u001b[0m",
      "\u001b[0;31mNameError\u001b[0m                                 Traceback (most recent call last)",
      "Cell \u001b[0;32mIn[1], line 32\u001b[0m\n\u001b[1;32m     29\u001b[0m         writer\u001b[38;5;241m.\u001b[39mwriterows(data)\n\u001b[1;32m     31\u001b[0m \u001b[38;5;28;01mif\u001b[39;00m \u001b[38;5;18m__name__\u001b[39m \u001b[38;5;241m==\u001b[39m \u001b[38;5;124m'\u001b[39m\u001b[38;5;124m__main__\u001b[39m\u001b[38;5;124m'\u001b[39m:\n\u001b[0;32m---> 32\u001b[0m     \u001b[43mgenerate_weather_data\u001b[49m\u001b[43m(\u001b[49m\u001b[43m)\u001b[49m\n",
      "Cell \u001b[0;32mIn[1], line 15\u001b[0m, in \u001b[0;36mgenerate_weather_data\u001b[0;34m(num_days)\u001b[0m\n\u001b[1;32m     13\u001b[0m \u001b[38;5;66;03m# Generate temperature with seasonal variation\u001b[39;00m\n\u001b[1;32m     14\u001b[0m base_temp \u001b[38;5;241m=\u001b[39m \u001b[38;5;241m20\u001b[39m  \u001b[38;5;66;03m# Base temperature\u001b[39;00m\n\u001b[0;32m---> 15\u001b[0m seasonal_variation \u001b[38;5;241m=\u001b[39m \u001b[38;5;241m10\u001b[39m \u001b[38;5;241m*\u001b[39m \u001b[43mmath\u001b[49m\u001b[38;5;241m.\u001b[39msin(\u001b[38;5;241m2\u001b[39m \u001b[38;5;241m*\u001b[39m math\u001b[38;5;241m.\u001b[39mpi \u001b[38;5;241m*\u001b[39m i \u001b[38;5;241m/\u001b[39m \u001b[38;5;241m365\u001b[39m)  \u001b[38;5;66;03m# Annual cycle\u001b[39;00m\n\u001b[1;32m     16\u001b[0m random_variation \u001b[38;5;241m=\u001b[39m random\u001b[38;5;241m.\u001b[39muniform(\u001b[38;5;241m-\u001b[39m\u001b[38;5;241m3\u001b[39m, \u001b[38;5;241m3\u001b[39m)  \u001b[38;5;66;03m# Daily random variation\u001b[39;00m\n\u001b[1;32m     17\u001b[0m temperature \u001b[38;5;241m=\u001b[39m base_temp \u001b[38;5;241m+\u001b[39m seasonal_variation \u001b[38;5;241m+\u001b[39m random_variation\n",
      "\u001b[0;31mNameError\u001b[0m: name 'math' is not defined"
     ]
    }
   ],
   "source": [
    "import csv\n",
    "from datetime import datetime, timedelta\n",
    "import random\n",
    "\n",
    "def generate_weather_data(num_days=365):\n",
    "    # Start date\n",
    "    start_date = datetime(2023, 1, 1)\n",
    "    \n",
    "    # Generate data\n",
    "    data = []\n",
    "    for i in range(num_days):\n",
    "        date = start_date + timedelta(days=i)\n",
    "        # Generate temperature with seasonal variation\n",
    "        base_temp = 20  # Base temperature\n",
    "        seasonal_variation = 10 * math.sin(2 * math.pi * i / 365)  # Annual cycle\n",
    "        random_variation = random.uniform(-3, 3)  # Daily random variation\n",
    "        temperature = base_temp + seasonal_variation + random_variation\n",
    "        \n",
    "        data.append({\n",
    "            'date': date.strftime('%Y-%m-%d'),\n",
    "            'temperature': round(temperature, 2),\n",
    "            'humidity': random.randint(40, 90)\n",
    "        })\n",
    "    \n",
    "    # Write to CSV\n",
    "    with open('weather_data.csv', 'w', newline='') as file:\n",
    "        writer = csv.DictWriter(file, fieldnames=['date', 'temperature', 'humidity'])\n",
    "        writer.writeheader()\n",
    "        writer.writerows(data)\n",
    "\n",
    "if __name__ == '__main__':\n",
    "    generate_weather_data()"
   ]
  },
  {
   "cell_type": "code",
   "execution_count": null,
   "metadata": {},
   "outputs": [],
   "source": [
    "import csv\n",
    "\n",
    "def read_csv_data(filename):\n",
    "    temperatures = []\n",
    "    humidity_values = []\n",
    "    \n",
    "    with open(filename) as f:\n",
    "        reader = csv.reader(f)\n",
    "        next(reader)  # Skip the header row\n",
    "        for row in reader:\n",
    "            try:\n",
    "                temp = float(row[1])\n",
    "                humidity = float(row[2])\n",
    "                temperatures.append(temp)\n",
    "                humidity_values.append(humidity)\n",
    "            except (ValueError, IndexError):\n",
    "                print(f'Skipping invalid row: {row}')\n",
    "                continue\n",
    "    \n",
    "    return temperatures, humidity_values\n",
    "\n",
    "\n",
    "def calculate_mean(numbers):\n",
    "    s = sum(numbers)\n",
    "    N = len(numbers)\n",
    "    return s/N\n",
    "\n",
    "def calculate_median(numbers):\n",
    "    N = len(numbers)\n",
    "    numbers.sort()\n",
    "    if N % 2 == 0:\n",
    "        m1 = int(N/2) - 1\n",
    "        m2 = int(N/2)\n",
    "        median = (numbers[m1] + numbers[m2])/2\n",
    "    else:\n",
    "        m = int((N+1)/2) - 1\n",
    "        median = numbers[m]\n",
    "    return median"
   ]
  }
 ],
 "metadata": {
  "kernelspec": {
   "display_name": "Python 3",
   "language": "python",
   "name": "python3"
  },
  "language_info": {
   "codemirror_mode": {
    "name": "ipython",
    "version": 3
   },
   "file_extension": ".py",
   "mimetype": "text/x-python",
   "name": "python",
   "nbconvert_exporter": "python",
   "pygments_lexer": "ipython3",
   "version": "3.12.1"
  }
 },
 "nbformat": 4,
 "nbformat_minor": 2
}
