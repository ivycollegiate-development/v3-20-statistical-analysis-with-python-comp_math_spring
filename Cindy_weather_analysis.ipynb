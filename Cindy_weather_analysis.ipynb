{
 "cells": [
  {
   "cell_type": "code",
   "execution_count": 1,
   "metadata": {},
   "outputs": [],
   "source": [
    "import csv\n",
    "from datetime import datetime, timedelta\n",
    "import random\n",
    "import math\n",
    "\n",
    "def generate_weather_data(num_days=365):\n",
    "    # Start date\n",
    "    start_date = datetime(2023, 1, 1)\n",
    "    \n",
    "    # Generate data\n",
    "    data = []\n",
    "    for i in range(num_days):\n",
    "        date = start_date + timedelta(days=i)\n",
    "        # Generate temperature with seasonal variation\n",
    "        base_temp = 20  # Base temperature\n",
    "        seasonal_variation = 10 * math.sin(2 * math.pi * i / 365)  # Annual cycle\n",
    "        random_variation = random.uniform(-3, 3)  # Daily random variation\n",
    "        temperature = base_temp + seasonal_variation + random_variation\n",
    "        \n",
    "        data.append({\n",
    "            'date': date.strftime('%Y-%m-%d'),\n",
    "            'temperature': round(temperature, 2),\n",
    "            'humidity': random.randint(40, 90)\n",
    "        })\n",
    "    \n",
    "    # Write to CSV\n",
    "    with open('weather_data.csv', 'w', newline='') as file:\n",
    "        writer = csv.DictWriter(file, fieldnames=['date', 'temperature', 'humidity'])\n",
    "        writer.writeheader()\n",
    "        writer.writerows(data)\n",
    "\n",
    "if __name__ == '__main__':\n",
    "\n",
    "    generate_weather_data()"
   ]
  },
  {
   "cell_type": "code",
   "execution_count": 5,
   "metadata": {},
   "outputs": [
    {
     "name": "stdout",
     "output_type": "stream",
     "text": [
      "Test Data Mean: 16.7\n",
      "Test Data Median: 16.8\n"
     ]
    }
   ],
   "source": [
    "import csv\n",
    "\n",
    "def read_csv_data(filename):\n",
    "    temperatures = []\n",
    "    humidity_values = []\n",
    "    \n",
    "    with open(filename) as f:\n",
    "        reader = csv.reader(f)\n",
    "        next(reader)  # Skip the header row\n",
    "        for row in reader:\n",
    "            try:\n",
    "                temp = float(row[1])\n",
    "                humidity = float(row[2])\n",
    "                temperatures.append(temp)\n",
    "                humidity_values.append(humidity)\n",
    "            except (ValueError, IndexError):\n",
    "                print(f'Skipping invalid row: {row}')\n",
    "                continue\n",
    "    \n",
    "    return temperatures, humidity_values\n",
    "\n",
    "def calculate_mean(numbers):\n",
    "    s = sum(numbers)\n",
    "    N = len(numbers)\n",
    "    return s/N\n",
    "\n",
    "def calculate_median(numbers):\n",
    "    N = len(numbers)\n",
    "    numbers.sort()\n",
    "    if N % 2 == 0:\n",
    "        m1 = int(N/2) - 1\n",
    "        m2 = int(N/2)\n",
    "        median = (numbers[m1] + numbers[m2])/2\n",
    "    else:\n",
    "        m = int((N+1)/2) - 1\n",
    "        median = numbers[m]\n",
    "    return median\n",
    "\n",
    "# Test This list of data\n",
    "test_list = [15.5, 17.2, 16.8, 15.9, 18.1]\n",
    "\n",
    "#Calculate mean and median of the Test List\n",
    "mean = calculate_mean(test_list)\n",
    "median = calculate_median(test_list)\n",
    "\n",
    "#Print or display that calculated mean and median from the Test list\n",
    "print(f\"Test Data Mean: {mean}\")\n",
    "print(f\"Test Data Median: {median}\")"
   ]
  }
 ],
 "metadata": {
  "kernelspec": {
   "display_name": "Python 3",
   "language": "python",
   "name": "python3"
  },
  "language_info": {
   "codemirror_mode": {
    "name": "ipython",
    "version": 3
   },
   "file_extension": ".py",
   "mimetype": "text/x-python",
   "name": "python",
   "nbconvert_exporter": "python",
   "pygments_lexer": "ipython3",
   "version": "3.12.1"
  }
 },
 "nbformat": 4,
 "nbformat_minor": 2
}
